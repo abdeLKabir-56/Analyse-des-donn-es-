{
 "cells": [
  {
   "cell_type": "code",
   "execution_count": 1,
   "id": "79045fb0",
   "metadata": {},
   "outputs": [],
   "source": [
    "import pandas as pd\n",
    "import seaborn as sns\n",
    "import matplotlib.pyplot as plt\n",
    "import numpy as np"
   ]
  },
  {
   "cell_type": "code",
   "execution_count": 2,
   "id": "a6a7c67e",
   "metadata": {},
   "outputs": [],
   "source": [
    "df = pd.read_csv(\"/Users/mac/Desktop/tpdata/Automobile_data.csv\", na_values=\"?\") \n",
    "df.dropna(inplace=True) "
   ]
  },
  {
   "cell_type": "code",
   "execution_count": 3,
   "id": "324c9012",
   "metadata": {
    "scrolled": true
   },
   "outputs": [
    {
     "data": {
      "text/html": [
       "<div>\n",
       "<style scoped>\n",
       "    .dataframe tbody tr th:only-of-type {\n",
       "        vertical-align: middle;\n",
       "    }\n",
       "\n",
       "    .dataframe tbody tr th {\n",
       "        vertical-align: top;\n",
       "    }\n",
       "\n",
       "    .dataframe thead th {\n",
       "        text-align: right;\n",
       "    }\n",
       "</style>\n",
       "<table border=\"1\" class=\"dataframe\">\n",
       "  <thead>\n",
       "    <tr style=\"text-align: right;\">\n",
       "      <th></th>\n",
       "      <th>highway-mpg</th>\n",
       "      <th>engine-size</th>\n",
       "      <th>horsepower</th>\n",
       "      <th>curb-weight</th>\n",
       "      <th>price</th>\n",
       "    </tr>\n",
       "  </thead>\n",
       "  <tbody>\n",
       "    <tr>\n",
       "      <th>3</th>\n",
       "      <td>30</td>\n",
       "      <td>109</td>\n",
       "      <td>102.0</td>\n",
       "      <td>2337</td>\n",
       "      <td>13950.0</td>\n",
       "    </tr>\n",
       "    <tr>\n",
       "      <th>4</th>\n",
       "      <td>22</td>\n",
       "      <td>136</td>\n",
       "      <td>115.0</td>\n",
       "      <td>2824</td>\n",
       "      <td>17450.0</td>\n",
       "    </tr>\n",
       "    <tr>\n",
       "      <th>6</th>\n",
       "      <td>25</td>\n",
       "      <td>136</td>\n",
       "      <td>110.0</td>\n",
       "      <td>2844</td>\n",
       "      <td>17710.0</td>\n",
       "    </tr>\n",
       "    <tr>\n",
       "      <th>8</th>\n",
       "      <td>20</td>\n",
       "      <td>131</td>\n",
       "      <td>140.0</td>\n",
       "      <td>3086</td>\n",
       "      <td>23875.0</td>\n",
       "    </tr>\n",
       "    <tr>\n",
       "      <th>10</th>\n",
       "      <td>29</td>\n",
       "      <td>108</td>\n",
       "      <td>101.0</td>\n",
       "      <td>2395</td>\n",
       "      <td>16430.0</td>\n",
       "    </tr>\n",
       "  </tbody>\n",
       "</table>\n",
       "</div>"
      ],
      "text/plain": [
       "    highway-mpg  engine-size  horsepower  curb-weight    price\n",
       "3            30          109       102.0         2337  13950.0\n",
       "4            22          136       115.0         2824  17450.0\n",
       "6            25          136       110.0         2844  17710.0\n",
       "8            20          131       140.0         3086  23875.0\n",
       "10           29          108       101.0         2395  16430.0"
      ]
     },
     "execution_count": 3,
     "metadata": {},
     "output_type": "execute_result"
    }
   ],
   "source": [
    "df=df[[\"highway-mpg\", \"engine-size\", \"horsepower\", \"curb-weight\",\"price\"]]\n",
    "df.head()"
   ]
  },
  {
   "cell_type": "code",
   "execution_count": 4,
   "id": "9a8784f8",
   "metadata": {},
   "outputs": [],
   "source": [
    "from sklearn.model_selection import train_test_split \n",
    "from sklearn.linear_model import LinearRegression"
   ]
  },
  {
   "cell_type": "markdown",
   "id": "8de614cc",
   "metadata": {},
   "source": [
    "### Split the data into the predictor variables X and the response variable Y\n"
   ]
  },
  {
   "cell_type": "code",
   "execution_count": 5,
   "id": "a6bb502f",
   "metadata": {},
   "outputs": [],
   "source": [
    "X=df.iloc[:,:-1]\n",
    "Y=df.iloc[:,-1]\n"
   ]
  },
  {
   "cell_type": "markdown",
   "id": "ae109e68",
   "metadata": {},
   "source": [
    "### We choose to Fit a PCA model to the predictor variables\n"
   ]
  },
  {
   "cell_type": "code",
   "execution_count": 6,
   "id": "8d03293c",
   "metadata": {},
   "outputs": [],
   "source": [
    "from sklearn.decomposition import PCA\n",
    "pca = PCA(n_components=2)\n",
    "Xpca = pca.fit_transform(X)"
   ]
  },
  {
   "cell_type": "code",
   "execution_count": 9,
   "id": "1ace0178",
   "metadata": {},
   "outputs": [],
   "source": [
    "Xpca_df = pd.DataFrame(Xpca, columns=['PC1', 'PC2'])#convert Xpca array to dataframe\n"
   ]
  },
  {
   "cell_type": "markdown",
   "id": "76d488f8",
   "metadata": {},
   "source": [
    "### split the dataset into training (80%) and testing (20%) sets\n",
    "\n"
   ]
  },
  {
   "cell_type": "code",
   "execution_count": 17,
   "id": "73666c7f",
   "metadata": {},
   "outputs": [],
   "source": [
    "X_train, X_test, Y_train, Y_test = train_test_split(Xpca_df, Y, test_size=0.2)"
   ]
  },
  {
   "cell_type": "markdown",
   "id": "8cfbe557",
   "metadata": {},
   "source": [
    "### Linear regression model to the training data"
   ]
  },
  {
   "cell_type": "code",
   "execution_count": 11,
   "id": "d2b904ca",
   "metadata": {},
   "outputs": [],
   "source": [
    "regression = LinearRegression().fit(X_train, Y_train)"
   ]
  },
  {
   "cell_type": "markdown",
   "id": "baad064f",
   "metadata": {},
   "source": [
    "### Evaluation"
   ]
  },
  {
   "cell_type": "code",
   "execution_count": 18,
   "id": "c9f19dd8",
   "metadata": {},
   "outputs": [
    {
     "name": "stdout",
     "output_type": "stream",
     "text": [
      "Coefficients de régression:  [ 10.94090653 -27.20892881]\n",
      "Interception:  11384.388121966043\n",
      "R-carré :  0.8539067583241935\n"
     ]
    }
   ],
   "source": [
    "print(\"Coefficients de régression: \", regression.coef_)\n",
    "print(\"Interception: \", regression.intercept_)\n",
    "print(\"R-carré : \",  regression.score(X_test,Y_test))"
   ]
  },
  {
   "cell_type": "markdown",
   "id": "b0a5f5b1",
   "metadata": {},
   "source": [
    "### Make predictions using the fitted model\n"
   ]
  },
  {
   "cell_type": "code",
   "execution_count": 46,
   "id": "ce88a301",
   "metadata": {},
   "outputs": [],
   "source": [
    "Y_predict=regression.predict(X_test)"
   ]
  },
  {
   "cell_type": "code",
   "execution_count": 47,
   "id": "03c0a7e7",
   "metadata": {},
   "outputs": [
    {
     "data": {
      "text/html": [
       "<div>\n",
       "<style scoped>\n",
       "    .dataframe tbody tr th:only-of-type {\n",
       "        vertical-align: middle;\n",
       "    }\n",
       "\n",
       "    .dataframe tbody tr th {\n",
       "        vertical-align: top;\n",
       "    }\n",
       "\n",
       "    .dataframe thead th {\n",
       "        text-align: right;\n",
       "    }\n",
       "</style>\n",
       "<table border=\"1\" class=\"dataframe\">\n",
       "  <thead>\n",
       "    <tr style=\"text-align: right;\">\n",
       "      <th></th>\n",
       "      <th>price_predict</th>\n",
       "    </tr>\n",
       "  </thead>\n",
       "  <tbody>\n",
       "    <tr>\n",
       "      <th>0</th>\n",
       "      <td>13981.718132</td>\n",
       "    </tr>\n",
       "    <tr>\n",
       "      <th>1</th>\n",
       "      <td>4763.106516</td>\n",
       "    </tr>\n",
       "    <tr>\n",
       "      <th>2</th>\n",
       "      <td>18282.946289</td>\n",
       "    </tr>\n",
       "    <tr>\n",
       "      <th>3</th>\n",
       "      <td>24638.236072</td>\n",
       "    </tr>\n",
       "    <tr>\n",
       "      <th>4</th>\n",
       "      <td>6613.912778</td>\n",
       "    </tr>\n",
       "  </tbody>\n",
       "</table>\n",
       "</div>"
      ],
      "text/plain": [
       "   price_predict\n",
       "0   13981.718132\n",
       "1    4763.106516\n",
       "2   18282.946289\n",
       "3   24638.236072\n",
       "4    6613.912778"
      ]
     },
     "execution_count": 47,
     "metadata": {},
     "output_type": "execute_result"
    }
   ],
   "source": [
    "price_predict=pd.DataFrame(Y_predict, columns=['price_predict'])\n",
    "price_predict.head()"
   ]
  }
 ],
 "metadata": {
  "kernelspec": {
   "display_name": "Python 3 (ipykernel)",
   "language": "python",
   "name": "python3"
  },
  "language_info": {
   "codemirror_mode": {
    "name": "ipython",
    "version": 3
   },
   "file_extension": ".py",
   "mimetype": "text/x-python",
   "name": "python",
   "nbconvert_exporter": "python",
   "pygments_lexer": "ipython3",
   "version": "3.9.13"
  }
 },
 "nbformat": 4,
 "nbformat_minor": 5
}
